{
 "cells": [
  {
   "cell_type": "code",
   "execution_count": null,
   "id": "689fbb57",
   "metadata": {},
   "outputs": [],
   "source": [
    "\n",
    "import pandas as pd\n",
    "import matplotlib.pyplot as plt\n",
    "import seaborn as sns\n",
    "from sklearn.model_selection import train_test_split, GridSearchCV\n",
    "from sklearn.ensemble import RandomForestClassifier\n",
    "from sklearn.metrics import classification_report, confusion_matrix\n",
    "from sklearn.impute import SimpleImputer\n",
    "from sklearn.preprocessing import LabelEncoder\n"
   ]
  },
  {
   "cell_type": "code",
   "execution_count": null,
   "id": "50fae77c",
   "metadata": {},
   "outputs": [],
   "source": [
    "\n",
    "# Cargar los datos\n",
    "hotels = pd.read_csv('hotel_bookings.csv')\n",
    "\n",
    "# Imputar valores faltantes para variables numéricas y categóricas\n",
    "num_imputer = SimpleImputer(strategy='median')\n",
    "cat_imputer = SimpleImputer(strategy='most_frequent')\n",
    "num_columns = hotels.select_dtypes(include=['float64', 'int64']).columns\n",
    "cat_columns = hotels.select_dtypes(include=['object']).columns\n",
    "hotels[num_columns] = num_imputer.fit_transform(hotels[num_columns])\n",
    "hotels[cat_columns] = cat_imputer.fit_transform(hotels[cat_columns])\n",
    "\n",
    "# Codificar variables categóricas\n",
    "label_encoder = LabelEncoder()\n",
    "for column in cat_columns:\n",
    "    hotels[column] = label_encoder.fit_transform(hotels[column])\n",
    "\n",
    "# Ingeniería de características\n",
    "hotels['total_stay'] = hotels['no_of_weekend_nights'] + hotels['no_of_week_nights']\n",
    "hotels['weekend_proportion'] = hotels['no_of_weekend_nights'] / hotels['total_stay']\n",
    "hotels['weekend_proportion'].fillna(0, inplace=True)\n"
   ]
  },
  {
   "cell_type": "code",
   "execution_count": null,
   "id": "2d3819a7",
   "metadata": {},
   "outputs": [],
   "source": [
    "\n",
    "# Dividir los datos en características y variable objetivo\n",
    "X = hotels.drop('booking_status', axis=1)\n",
    "y = hotels['booking_status']\n",
    "\n",
    "# Dividir en conjuntos de entrenamiento y prueba\n",
    "X_train, X_test, y_train, y_test = train_test_split(X, y, test_size=0.3, random_state=42)\n",
    "\n",
    "# Definir el grid de hiperparámetros para RandomForest\n",
    "param_grid = {\n",
    "    'n_estimators': [100, 200, 300],\n",
    "    'max_depth': [10, 20, 30],\n",
    "    'min_samples_split': [2, 5, 10],\n",
    "    'min_samples_leaf': [1, 2, 4]\n",
    "}\n",
    "\n",
    "# Crear y entrenar el modelo con GridSearchCV\n",
    "grid_search = GridSearchCV(RandomForestClassifier(random_state=42), param_grid, cv=3, n_jobs=-1, verbose=2, scoring='accuracy')\n",
    "grid_search.fit(X_train, y_train)\n",
    "\n",
    "# Mejores parámetros y puntuación\n",
    "best_params = grid_search.best_params_\n",
    "best_score = grid_search.best_score_\n",
    "best_params, best_score\n"
   ]
  }
 ],
 "metadata": {},
 "nbformat": 4,
 "nbformat_minor": 5
}
