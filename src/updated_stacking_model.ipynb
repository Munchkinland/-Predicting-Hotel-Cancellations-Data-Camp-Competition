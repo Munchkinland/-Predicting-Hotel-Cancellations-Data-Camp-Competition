{
 "cells": [
  {
   "cell_type": "code",
   "execution_count": 1,
   "id": "689fbb57",
   "metadata": {},
   "outputs": [],
   "source": [
    "\n",
    "import pandas as pd\n",
    "import matplotlib.pyplot as plt\n",
    "import seaborn as sns\n",
    "from sklearn.model_selection import train_test_split, GridSearchCV\n",
    "from sklearn.ensemble import RandomForestClassifier\n",
    "from sklearn.metrics import classification_report, confusion_matrix\n",
    "from sklearn.impute import SimpleImputer\n",
    "from sklearn.preprocessing import LabelEncoder\n",
    "from sklearn.preprocessing import StandardScaler\n",
    "from sklearn.pipeline import make_pipeline\n",
    "from sklearn.ensemble import StackingClassifier\n",
    "from sklearn.linear_model import LogisticRegression\n",
    "from sklearn.tree import DecisionTreeClassifier\n",
    "from sklearn.svm import SVC\n",
    "from sklearn.ensemble import RandomForestClassifier\n",
    "from sklearn.model_selection import train_test_split\n",
    "from sklearn.metrics import classification_report, confusion_matrix\n",
    "\n"
   ]
  },
  {
   "cell_type": "code",
   "execution_count": 2,
   "id": "50fae77c",
   "metadata": {},
   "outputs": [],
   "source": [
    "\n",
    "# Cargar los datos\n",
    "hotels = pd.read_csv(\"../data/raw/hotel_bookings.csv\")\n",
    "\n",
    "# Imputar valores faltantes para variables numéricas y categóricas\n",
    "num_imputer = SimpleImputer(strategy='median')\n",
    "cat_imputer = SimpleImputer(strategy='most_frequent')\n",
    "num_columns = hotels.select_dtypes(include=['float64', 'int64']).columns\n",
    "cat_columns = hotels.select_dtypes(include=['object']).columns\n",
    "hotels[num_columns] = num_imputer.fit_transform(hotels[num_columns])\n",
    "hotels[cat_columns] = cat_imputer.fit_transform(hotels[cat_columns])\n",
    "\n",
    "# Codificar variables categóricas\n",
    "label_encoder = LabelEncoder()\n",
    "for column in cat_columns:\n",
    "    hotels[column] = label_encoder.fit_transform(hotels[column])\n",
    "\n",
    "# Ingeniería de características\n",
    "hotels['total_stay'] = hotels['no_of_weekend_nights'] + hotels['no_of_week_nights']\n",
    "hotels['weekend_proportion'] = hotels['no_of_weekend_nights'] / hotels['total_stay']\n",
    "hotels['weekend_proportion'].fillna(0, inplace=True)\n"
   ]
  },
  {
   "cell_type": "code",
   "execution_count": 3,
   "id": "2d3819a7",
   "metadata": {},
   "outputs": [],
   "source": [
    "\n",
    "# Dividir los datos en características y variable objetivo\n",
    "X = hotels.drop('booking_status', axis=1)\n",
    "y = hotels['booking_status']\n"
   ]
  },
  {
   "cell_type": "code",
   "execution_count": 4,
   "id": "bf7b95a0",
   "metadata": {},
   "outputs": [],
   "source": [
    "\n",
    "# Dividir en conjuntos de entrenamiento y prueba\n",
    "X_train, X_test, y_train, y_test = train_test_split(X, y, test_size=0.3, random_state=42)\n"
   ]
  },
  {
   "cell_type": "code",
   "execution_count": 6,
   "id": "e2e6b351",
   "metadata": {},
   "outputs": [],
   "source": [
    "\n",
    "\n",
    "# Opciones para la regresión logística\n",
    "logistic_regression_options = {\n",
    "    'max_iter': 5000,\n",
    "    'solver': 'saga',\n",
    "    'random_state': 42\n",
    "}\n",
    "\n",
    "# Escalar los datos antes de alimentarlos al modelo\n",
    "scaler = StandardScaler()\n",
    "\n",
    "# Definir los modelos base para el stacking con pipelines para incluir el escalado\n",
    "base_models_scaled = [\n",
    "    ('rf', RandomForestClassifier(n_estimators=100, random_state=42)),  # No necesita escalado\n",
    "    ('lr', make_pipeline(StandardScaler(), LogisticRegression(**logistic_regression_options))),\n",
    "    ('dt', DecisionTreeClassifier(random_state=42)),  # No necesita escalado\n",
    "    ('svc', make_pipeline(StandardScaler(), SVC(random_state=42)))\n",
    "]\n",
    "\n",
    "# El meta-modelo también debería ser escalado si incluye LogisticRegression\n",
    "meta_model_scaled = make_pipeline(StandardScaler(), LogisticRegression(**logistic_regression_options))\n",
    "\n",
    "# Crear el modelo de Stacking con los modelos base escalados\n",
    "stacking_model_scaled = StackingClassifier(estimators=base_models_scaled, final_estimator=meta_model_scaled, cv=3)\n",
    "\n"
   ]
  },
  {
   "cell_type": "code",
   "execution_count": 8,
   "id": "323fdd84",
   "metadata": {},
   "outputs": [
    {
     "name": "stdout",
     "output_type": "stream",
     "text": [
      "Reporte de Clasificación:\n",
      "              precision    recall  f1-score   support\n",
      "\n",
      "           0       0.86      0.79      0.83      3607\n",
      "           1       0.90      0.94      0.92      7276\n",
      "\n",
      "    accuracy                           0.89     10883\n",
      "   macro avg       0.88      0.86      0.87     10883\n",
      "weighted avg       0.89      0.89      0.89     10883\n",
      "\n",
      "Matriz de Confusión:\n",
      "[[2858  749]\n",
      " [ 461 6815]]\n"
     ]
    }
   ],
   "source": [
    "\n",
    "\n",
    "# Entrenar el modelo de Stacking\n",
    "stacking_model_scaled.fit(X_train, y_train)\n",
    "\n",
    "# Realizar predicciones en el conjunto de prueba\n",
    "y_pred = stacking_model_scaled.predict(X_test)\n",
    "\n",
    "# Evaluar el modelo\n",
    "report = classification_report(y_test, y_pred)\n",
    "conf_matrix = confusion_matrix(y_test, y_pred)\n",
    "\n",
    "print(\"Reporte de Clasificación:\")\n",
    "print(report)\n",
    "print(\"Matriz de Confusión:\")\n",
    "print(conf_matrix)\n"
   ]
  },
  {
   "cell_type": "markdown",
   "id": "b093207d",
   "metadata": {},
   "source": [
    "\n",
    "The classification report results provide a detailed evaluation of the performance of a classification model on a test dataset. Here's the interpretation of the metrics presented in the report:\n",
    "\n",
    "For Class 0:\n",
    "\n",
    "Precision: 0.86\n",
    "This means that 86% of the predictions classified as Class 0 were correct.\n",
    "Recall: 0.79\n",
    "79% of the actual instances of Class 0 were correctly identified by the model.\n",
    "F1-score: 0.83\n",
    "The F1-score combines precision and recall and is equal to 0.83 for Class 0.\n",
    "Support: 3607\n",
    "There are a total of 3607 actual instances of Class 0 in the test set.\n",
    "For Class 1:\n",
    "\n",
    "Precision: 0.90\n",
    "90% of the predictions classified as Class 1 were correct.\n",
    "Recall: 0.94\n",
    "94% of the actual instances of Class 1 were correctly identified by the model.\n",
    "F1-score: 0.92\n",
    "The F1-score for Class 1 is 0.92, indicating a good balance between precision and recall.\n",
    "Support: 7276\n",
    "There are a total of 7276 actual instances of Class 1 in the test set.\n",
    "Overall Accuracy: 0.89\n",
    "\n",
    "The overall accuracy is 89%, which means that 89% of all predictions made by the model are correct.\n",
    "Weighted Average:\n",
    "\n",
    "The report also provides a weighted average of all the metrics. This is useful when classes have significant imbalance. In this case, the weighted average is 89%, indicating good overall model performance.\n",
    "Macro Average (Macro Avg):\n",
    "\n",
    "The macro average is a simple average of precision, recall, and F1-score for both classes. In this case, the macro average is 87%, indicating good overall performance in both classes.\n",
    "In summary, the classification model has very good overall performance, with high precision and recall in both classes and a weighted average F1-score of 89%."
   ]
  },
  {
   "cell_type": "code",
   "execution_count": 9,
   "id": "a5657b8d",
   "metadata": {},
   "outputs": [
    {
     "data": {
      "image/png": "[encoded data removed]",
      "text/plain": [
       "<Figure size 800x600 with 2 Axes>"
      ]
     },
     "metadata": {},
     "output_type": "display_data"
    }
   ],
   "source": [
    "import matplotlib.pyplot as plt\n",
    "import numpy as np\n",
    "\n",
    "# Define the confusion matrix\n",
    "confusion_matrix = np.array([[2858, 749],\n",
    "                              [461, 6815]])\n",
    "\n",
    "# Create a figure\n",
    "plt.figure(figsize=(8, 6))\n",
    "\n",
    "# Create the confusion matrix plot\n",
    "plt.imshow(confusion_matrix, interpolation='nearest', cmap=plt.cm.Blues)\n",
    "plt.colorbar()\n",
    "\n",
    "# Axis labels\n",
    "classes = ['Class 0', 'Class 1']\n",
    "plt.xticks(np.arange(len(classes)), classes, rotation=45)\n",
    "plt.yticks(np.arange(len(classes)), classes)\n",
    "\n",
    "# Add values inside the cells\n",
    "thresh = confusion_matrix.max() / 2\n",
    "for i in range(confusion_matrix.shape[0]):\n",
    "    for j in range(confusion_matrix.shape[1]):\n",
    "        plt.text(j, i, format(confusion_matrix[i, j], 'd'),\n",
    "                 ha=\"center\", va=\"center\",\n",
    "                 color=\"white\" if confusion_matrix[i, j] > thresh else \"black\")\n",
    "\n",
    "plt.tight_layout()\n",
    "plt.xlabel('True Label')\n",
    "plt.ylabel('Predicted Label')\n",
    "plt.title('Confusion Matrix')\n",
    "plt.show()\n"
   ]
  },
  {
   "cell_type": "markdown",
   "id": "0631c284",
   "metadata": {},
   "source": [
    "The value 2858 in the first row and first column (top left) indicates that there were 2858 instances that truly belonged to Class 0, and the model correctly predicted them as Class 0.\n",
    "\n",
    "The value 749 in the first row and second column (top right) indicates that there were 749 instances that truly belonged to Class 0, but the model incorrectly predicted them as Class 1.\n",
    "\n",
    "The value 461 in the second row and first column (bottom left) indicates that there were 461 instances that truly belonged to Class 1, but the model incorrectly predicted them as Class 0.\n",
    "\n",
    "The value 6815 in the second row and second column (bottom right) indicates that there were 6815 instances that truly belonged to Class 1, and the model correctly predicted them as Class 1."
   ]
  },
  {
   "cell_type": "markdown",
   "id": "3c69df54",
   "metadata": {},
   "source": [
    "Save scaler, logistic regression model & stacking model"
   ]
  },
  {
   "cell_type": "code",
   "execution_count": 10,
   "id": "f86f9c0b",
   "metadata": {},
   "outputs": [
    {
     "data": {
      "text/plain": [
       "['stacking_model.joblib']"
      ]
     },
     "execution_count": 10,
     "metadata": {},
     "output_type": "execute_result"
    }
   ],
   "source": [
    "import joblib\n",
    "\n",
    "# Definir el nombre de archivo para guardar el escalador\n",
    "scaler_filename = \"scaler_model.joblib\"\n",
    "\n",
    "# Guardar el escalador en el archivo\n",
    "joblib.dump(StandardScaler(), scaler_filename)\n",
    "\n",
    "# Definir el nombre de archivo para guardar el modelo LogisticRegression\n",
    "logistic_regression_filename = \"logistic_regression_model.joblib\"\n",
    "\n",
    "# Guardar el modelo LogisticRegression en el archivo\n",
    "joblib.dump(meta_model_scaled.named_steps['logisticregression'], logistic_regression_filename)\n",
    "\n",
    "# Definir el nombre de archivo para guardar el modelo StackingClassifier\n",
    "stacking_model_filename = \"stacking_model.joblib\"\n",
    "\n",
    "# Guardar el modelo StackingClassifier en el archivo\n",
    "joblib.dump(stacking_model_scaled, stacking_model_filename)\n"
   ]
  }
 ],
 "metadata": {
  "kernelspec": {
   "display_name": "Python 3",
   "language": "python",
   "name": "python3"
  },
  "language_info": {
   "codemirror_mode": {
    "name": "ipython",
    "version": 3
   },
   "file_extension": ".py",
   "mimetype": "text/x-python",
   "name": "python",
   "nbconvert_exporter": "python",
   "pygments_lexer": "ipython3",
   "version": "3.10.11"
  }
 },
 "nbformat": 4,
 "nbformat_minor": 5
}
